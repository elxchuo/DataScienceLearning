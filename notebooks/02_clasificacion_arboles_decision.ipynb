{
 "cells": [
  {
   "cell_type": "code",
   "execution_count": null,
   "metadata": {},
   "outputs": [],
   "source": [
    "# 01_decision_trees.ipynb\n",
    "# Árbol de decisión con dataset Iris - Explicado en español con Gini\n",
    "\n",
    "import pandas as pd\n",
    "from sklearn.datasets import load_iris\n",
    "from sklearn.model_selection import train_test_split\n",
    "from sklearn.tree import DecisionTreeClassifier\n",
    "from sklearn.metrics import accuracy_score\n",
    "import matplotlib.pyplot as plt\n",
    "from sklearn.tree import plot_tree\n",
    "\n",
    "# Cargar el dataset Iris\n",
    "data = load_iris()\n",
    "caracteristicas = ['longitud_sépalo', 'ancho_sépalo', 'longitud_pétalo', 'ancho_pétalo']\n",
    "especies = ['setosa', 'versicolor', 'virginica']\n",
    "\n",
    "# Convertir a DataFrame\n",
    "df = pd.DataFrame(data.data, columns=caracteristicas)\n",
    "df['especie'] = [especies[i] for i in data.target]\n",
    "print(\"Primeras 5 filas del dataset:\")\n",
    "print(df.head())\n",
    "\n",
    "# Preparar datos\n",
    "X = data.data\n",
    "y = data.target\n",
    "X_train, X_test, y_train, y_test = train_test_split(X, y, test_size=0.3, random_state=42)\n",
    "\n",
    "# Entrenar el modelo\n",
    "clf = DecisionTreeClassifier(max_depth=3, random_state=42)\n",
    "clf.fit(X_train, y_train)\n",
    "\n",
    "# Predicciones\n",
    "y_pred = clf.predict(X_test)\n",
    "accuracy = accuracy_score(y_test, y_pred)\n",
    "print(f\"Precisión del modelo: {accuracy:.2f}\")\n",
    "\n",
    "# Visualizar el árbol con más detalles\n",
    "plt.figure(figsize=(15, 10))\n",
    "plot_tree(clf, feature_names=caracteristicas, class_names=especies, filled=True, rounded=True, impurity=True)\n",
    "plt.title(\"Árbol de Decisión - Clasificación de Flores Iris (con Gini)\")\n",
    "plt.show()\n",
    "\n",
    "# Explorar el Gini en el nodo raíz\n",
    "print(\"Gini en el nodo raíz:\", clf.tree_.impurity[0])"
   ]
  }
 ],
 "metadata": {
  "kernelspec": {
   "display_name": "env_DS",
   "language": "python",
   "name": "python3"
  },
  "language_info": {
   "name": "python",
   "version": "3.13.1"
  }
 },
 "nbformat": 4,
 "nbformat_minor": 2
}
