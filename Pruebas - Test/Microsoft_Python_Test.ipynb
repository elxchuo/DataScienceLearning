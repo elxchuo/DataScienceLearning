{
 "cells": [
  {
   "cell_type": "markdown",
   "metadata": {},
   "source": [
    "###  Prueba de Microsoft para ingresar como Data Analyst."
   ]
  },
  {
   "cell_type": "markdown",
   "metadata": {},
   "source": [
    "### 1) Filtering Data Frame Base on Conditions\n",
    "#### create a dataframe with data and filter de df to show only inployees in IT department weho earn more than 60.000"
   ]
  },
  {
   "cell_type": "code",
   "execution_count": 8,
   "metadata": {},
   "outputs": [
    {
     "name": "stdout",
     "output_type": "stream",
     "text": [
      "  employee department  salary\n",
      "3     Jill         IT   65000\n"
     ]
    }
   ],
   "source": [
    "import pandas as pd\n",
    "import numpy as np\n",
    "\n",
    "data = {\n",
    "    'employee': ['John', 'Jane', 'Jim', 'Jill', 'Jack'],\n",
    "    'department': ['HR', 'IT', 'Finance', 'IT', 'HR'],\n",
    "    'salary': [50000, 60000, 70000, 65000, 55000]\n",
    "}\n",
    "\n",
    "df=pd.DataFrame(data)\n",
    "\n",
    "df.head()\n",
    "df_filtered = df[(df['department'] == 'IT') & (df['salary'] > 60000)]\n",
    "\n",
    "print(df_filtered)"
   ]
  },
  {
   "cell_type": "markdown",
   "metadata": {},
   "source": [
    "### 2) Renaming columns\n",
    "#### Create Data Frame with the following data and rename the columns toID, ame and Price."
   ]
  },
  {
   "cell_type": "code",
   "execution_count": 17,
   "metadata": {},
   "outputs": [
    {
     "data": {
      "text/html": [
       "<div>\n",
       "<style scoped>\n",
       "    .dataframe tbody tr th:only-of-type {\n",
       "        vertical-align: middle;\n",
       "    }\n",
       "\n",
       "    .dataframe tbody tr th {\n",
       "        vertical-align: top;\n",
       "    }\n",
       "\n",
       "    .dataframe thead th {\n",
       "        text-align: right;\n",
       "    }\n",
       "</style>\n",
       "<table border=\"1\" class=\"dataframe\">\n",
       "  <thead>\n",
       "    <tr style=\"text-align: right;\">\n",
       "      <th></th>\n",
       "      <th>ID</th>\n",
       "      <th>Name</th>\n",
       "      <th>Price</th>\n",
       "    </tr>\n",
       "  </thead>\n",
       "  <tbody>\n",
       "    <tr>\n",
       "      <th>0</th>\n",
       "      <td>101</td>\n",
       "      <td>Laptop</td>\n",
       "      <td>1000</td>\n",
       "    </tr>\n",
       "    <tr>\n",
       "      <th>1</th>\n",
       "      <td>102</td>\n",
       "      <td>Phone</td>\n",
       "      <td>800</td>\n",
       "    </tr>\n",
       "    <tr>\n",
       "      <th>2</th>\n",
       "      <td>103</td>\n",
       "      <td>Tablet</td>\n",
       "      <td>600</td>\n",
       "    </tr>\n",
       "  </tbody>\n",
       "</table>\n",
       "</div>"
      ],
      "text/plain": [
       "    ID    Name  Price\n",
       "0  101  Laptop   1000\n",
       "1  102   Phone    800\n",
       "2  103  Tablet    600"
      ]
     },
     "execution_count": 17,
     "metadata": {},
     "output_type": "execute_result"
    }
   ],
   "source": [
    "data2 = {\n",
    "    'Product_ID': [101, 102, 103],\n",
    "    'Product_Name': ['Laptop', 'Phone', 'Tablet'],\n",
    "    'Product_Price': [1000, 800, 600]\n",
    "}\n",
    "df2 = pd.DataFrame(data2)\n",
    "df2.head()\n",
    "\n",
    "df2.rename(columns=\n",
    "           {'Product_ID': 'ID',\n",
    "            'Product_Name': 'Name',\n",
    "            'Product_Price': 'Price'}, inplace=True)\n",
    "df2.head()"
   ]
  },
  {
   "cell_type": "markdown",
   "metadata": {},
   "source": [
    "### 3) Handing missing Values\n",
    "#### Create a Data Frame with the following data and fill the missing values in the price column with the average price of the products and drop the rows where the prices column is still missing after filling"
   ]
  },
  {
   "cell_type": "code",
   "execution_count": 26,
   "metadata": {},
   "outputs": [
    {
     "name": "stdout",
     "output_type": "stream",
     "text": [
      "550.0\n",
      "   product   price  stock\n",
      "0   Laptop  1000.0     50\n",
      "1   Tablet   500.0    150\n",
      "2    Phone   550.0    100\n",
      "3  Monitor   150.0    200\n",
      "4    Mouse   550.0    300\n"
     ]
    },
    {
     "name": "stderr",
     "output_type": "stream",
     "text": [
      "C:\\Users\\José Cortés\\AppData\\Local\\Temp\\ipykernel_14464\\387024797.py:12: FutureWarning: A value is trying to be set on a copy of a DataFrame or Series through chained assignment using an inplace method.\n",
      "The behavior will change in pandas 3.0. This inplace method will never work because the intermediate object on which we are setting values always behaves as a copy.\n",
      "\n",
      "For example, when doing 'df[col].method(value, inplace=True)', try using 'df.method({col: value}, inplace=True)' or df[col] = df[col].method(value) instead, to perform the operation inplace on the original object.\n",
      "\n",
      "\n",
      "  df3['price'].fillna(average_price, inplace=True)\n"
     ]
    }
   ],
   "source": [
    "data3 = {\n",
    "    'product': ['Laptop', 'Tablet', 'Phone', 'Monitor', 'Mouse'],\n",
    "    'price': [1000, 500, None, 150, None],\n",
    "    'stock': [50, 150, 100, 200, 300]\n",
    "}\n",
    "df3 = pd.DataFrame(data3)\n",
    "df3.head()\n",
    "\n",
    "average_price = df3['price'].mean(skipna=True)\n",
    "print(average_price)\n",
    "\n",
    "df3['price'].fillna(average_price, inplace=True)\n",
    "df3.head()\n",
    "\n",
    "df3.dropna(subset=['price'], inplace= True)\n",
    "print(df3)"
   ]
  },
  {
   "cell_type": "markdown",
   "metadata": {},
   "source": [
    "### 4) creating extra Column\n",
    "#### Read an Excel file into a pandas data frame. Ad a new Column Called state Base on the values in the city column"
   ]
  },
  {
   "cell_type": "code",
   "execution_count": null,
   "metadata": {},
   "outputs": [],
   "source": []
  }
 ],
 "metadata": {
  "kernelspec": {
   "display_name": "env_data",
   "language": "python",
   "name": "python3"
  },
  "language_info": {
   "codemirror_mode": {
    "name": "ipython",
    "version": 3
   },
   "file_extension": ".py",
   "mimetype": "text/x-python",
   "name": "python",
   "nbconvert_exporter": "python",
   "pygments_lexer": "ipython3",
   "version": "3.11.9"
  }
 },
 "nbformat": 4,
 "nbformat_minor": 2
}
